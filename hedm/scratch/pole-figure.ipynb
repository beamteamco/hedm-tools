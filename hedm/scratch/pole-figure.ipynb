{
 "cells": [
  {
   "cell_type": "code",
   "execution_count": 14,
   "metadata": {
    "collapsed": true
   },
   "outputs": [],
   "source": [
    "%matplotlib inline"
   ]
  },
  {
   "cell_type": "code",
   "execution_count": 53,
   "metadata": {
    "collapsed": true
   },
   "outputs": [],
   "source": [
    "from hedm import quaternion\n",
    "import numpy as np\n",
    "from matplotlib import pyplot as plt"
   ]
  },
  {
   "cell_type": "code",
   "execution_count": 48,
   "metadata": {
    "collapsed": true
   },
   "outputs": [],
   "source": [
    "def angle_radius(vec, pole='ND', convention='active'):\n",
    "    # handle positional arguments\n",
    "    vec = np.asarray(vec)\n",
    "    pole = pole.lower()\n",
    "    # normalize vec\n",
    "    vec /= np.linalg.norm(vec)\n",
    "    # set the sample reference frame\n",
    "    axes = {\n",
    "        'nd' : np.array([\n",
    "                [1., 0., 0.],\n",
    "                [0., 1., 0.],\n",
    "                [0., 0., 1.]]),\n",
    "        'rd' : np.array([\n",
    "                [0., 1., 0.],\n",
    "                [0., 0., 1.],\n",
    "                [1., 0., 0]]),\n",
    "        'td' : np.array([\n",
    "                [0., 0., 1.],\n",
    "                [1., 0., 0.],\n",
    "                [0., 1., 0.]])}[pole]\n",
    "    axes /= np.linalg.norm(axes, axis=0)\n",
    "    if convention.lower() == 'passive':\n",
    "        axes = axes.T\n",
    "    # determine radius and angle\n",
    "    right, up, pole = axes\n",
    "    x = np.dot(vec, right)\n",
    "    y = np.dot(vec, up)\n",
    "    z = 1.-np.dot(vec, pole)\n",
    "    theta = np.arctan2(y, x)\n",
    "    radius = z\n",
    "    return (theta, radius)"
   ]
  },
  {
   "cell_type": "markdown",
   "metadata": {},
   "source": [
    "## Read the data"
   ]
  },
  {
   "cell_type": "code",
   "execution_count": 3,
   "metadata": {
    "collapsed": false
   },
   "outputs": [
    {
     "data": {
      "text/plain": [
       "('GrainID',\n",
       " 'O11',\n",
       " 'O12',\n",
       " 'O13',\n",
       " 'O21',\n",
       " 'O22',\n",
       " 'O23',\n",
       " 'O31',\n",
       " 'O32',\n",
       " 'O33',\n",
       " 'X',\n",
       " 'Y',\n",
       " 'Z',\n",
       " 'a',\n",
       " 'b',\n",
       " 'c',\n",
       " 'alpha',\n",
       " 'beta',\n",
       " 'gamma',\n",
       " 'DiffPos',\n",
       " 'DiffOme',\n",
       " 'DiffAngle',\n",
       " 'GrainRadius',\n",
       " 'Confidence',\n",
       " 'eFab11',\n",
       " 'eFab12',\n",
       " 'eFab13',\n",
       " 'eFab21',\n",
       " 'eFab22',\n",
       " 'eFab23',\n",
       " 'eFab31',\n",
       " 'eFab32',\n",
       " 'eFab33',\n",
       " 'eKen11',\n",
       " 'eKen12',\n",
       " 'eKen13',\n",
       " 'eKen21',\n",
       " 'eKen22',\n",
       " 'eKen23',\n",
       " 'eKen31',\n",
       " 'eKen32',\n",
       " 'eKen33',\n",
       " 'RMSErrorStrain',\n",
       " 'PhaseNr')"
      ]
     },
     "execution_count": 3,
     "metadata": {},
     "output_type": "execute_result"
    }
   ],
   "source": [
    "grains = np.genfromtxt('Grains.csv', skip_header=8, names=True, dtype=None)\n",
    "grains.dtype.names"
   ]
  },
  {
   "cell_type": "code",
   "execution_count": 6,
   "metadata": {
    "collapsed": true
   },
   "outputs": [],
   "source": [
    "orientations = grains[np.array([\n",
    "            'O11', 'O12', 'O13',\n",
    "            'O21', 'O22', 'O23',\n",
    "            'O31', 'O32', 'O33'])].view(np.float64).reshape((-1, 3, 3))"
   ]
  },
  {
   "cell_type": "markdown",
   "metadata": {},
   "source": [
    "# Pole Figures"
   ]
  },
  {
   "cell_type": "code",
   "execution_count": 57,
   "metadata": {
    "collapsed": false
   },
   "outputs": [],
   "source": [
    "# transform the orientation matrices to RD/TD/ND\n",
    "sample_coordinates = np.dot(orientations, [\n",
    "        [1, 0, 0],\n",
    "        [0, 0, 1],\n",
    "        [0, 1, 0]])\n",
    "axis_angles = [quaternion.to_axis_angle(quaternion.from_matrix(m)) for m in sample_coordinates]"
   ]
  },
  {
   "cell_type": "code",
   "execution_count": 67,
   "metadata": {
    "collapsed": false
   },
   "outputs": [
    {
     "data": {
      "text/plain": [
       "[array([-0.79532423, -0.25801879,  0.54853046]),\n",
       " array([-0.89630749,  0.39602315,  0.19949573]),\n",
       " array([ 0.42209873,  0.20429418,  0.88323075])]"
      ]
     },
     "execution_count": 67,
     "metadata": {},
     "output_type": "execute_result"
    }
   ],
   "source": []
  },
  {
   "cell_type": "code",
   "execution_count": 69,
   "metadata": {
    "collapsed": false
   },
   "outputs": [
    {
     "data": {
      "image/png": "[encoded data removed]",
      "text/plain": [
       "<matplotlib.figure.Figure at 0x1140751d0>"
      ]
     },
     "metadata": {},
     "output_type": "display_data"
    }
   ],
   "source": [
    "theta, radius = np.transpose([angle_radius(axis) for axis, angle in axis_angles])\n",
    "fig = plt.figure(figsize=(6,6))\n",
    "axnd = fig.add_subplot(111, projection='polar')\n",
    "axnd.scatter(theta, radius)\n",
    "axnd.set_yticks([0])\n",
    "axnd.set_yticklabels(['$[0001]$'])\n",
    "axnd.set_xticks(np.arange(0, 2*np.pi, np.pi/3.))\n",
    "_ = axnd.set_xticklabels([\n",
    "        '$[2\\overline{1}\\overline{1}0]$',\n",
    "        '$[11\\overline{2}0]$',\n",
    "        '$[\\overline{1}2\\overline{1}0]$',\n",
    "        '$[\\overline{2}110]$',\n",
    "        '$[\\overline{1}\\overline{1}20]$',\n",
    "        '$[1\\overline{2}10]$'\n",
    "    ])"
   ]
  },
  {
   "cell_type": "code",
   "execution_count": 72,
   "metadata": {
    "collapsed": false
   },
   "outputs": [
    {
     "data": {
      "image/png": "[encoded data removed]",
      "text/plain": [
       "<matplotlib.figure.Figure at 0x1139bd510>"
      ]
     },
     "metadata": {},
     "output_type": "display_data"
    }
   ],
   "source": [
    "axis = np.array([axis for axis, angle in axis_angles])\n",
    "fig = plt.figure(figsize=(6,6))\n",
    "ax = fig.add_subplot(111)\n",
    "ax.hist(np.abs(axis[:, 0]), color='r')\n",
    "ax.hist(np.abs(axis[:, 1]), color='g')\n",
    "ax.hist(np.abs(axis[:, 2]), color='b')\n",
    "plt.show()"
   ]
  },
  {
   "cell_type": "raw",
   "metadata": {},
   "source": [
    "td = np.dot([0, 0, 1], np.transpose(orientations, (0, 2, 1)))\n",
    "nd = np.dot([0, 1, 0], np.transpose(orientations, (0, 2, 1)))\n",
    "rd = np.dot([1, 0, 0], np.transpose(orientations, (0, 2, 1)))"
   ]
  },
  {
   "cell_type": "raw",
   "metadata": {},
   "source": [
    "qnd, rnd = angle_radius(nd, 'nd', convention='passive')\n",
    "qtd, rtd = angle_radius(nd, 'td', convention='passive')\n",
    "qrd, rrd = angle_radius(nd, 'rd', convention='passive')"
   ]
  },
  {
   "cell_type": "raw",
   "metadata": {},
   "source": [
    "fig = plt.figure(figsize=(12, 4))\n",
    "# rolling direction\n",
    "axrd = fig.add_subplot(131, projection='polar')\n",
    "axrd.scatter(qrd, rrd)\n",
    "axrd.set_yticks([0])\n",
    "axrd.set_yticklabels(['$[2\\overline{1}\\overline{1}0]$'])\n",
    "axrd.set_xticks(np.arange(0, 2*np.pi, np.pi/2.))\n",
    "axrd.set_xticklabels([\n",
    "        '$[01\\overline{1}0]$',\n",
    "        '$[0001]$',\n",
    "        '$[0\\overline{1}10]$',\n",
    "        '$[000\\overline{1}]$'\n",
    "    ])\n",
    "axrd.set_title('RD', y=1.08)\n",
    "# transverse direction\n",
    "axtd = fig.add_subplot(132, projection='polar')\n",
    "axtd.scatter(qtd, rtd)\n",
    "axtd.set_yticks([0])\n",
    "axtd.set_yticklabels(['$[01\\overline{1}0]$'])\n",
    "axtd.set_xticks(np.arange(0, 2*np.pi, np.pi/2.))\n",
    "axtd.set_xticklabels([\n",
    "        '$[0001]$',\n",
    "        '$[2\\overline{1}\\overline{1}0]$',\n",
    "        '$[000\\overline{1}]$',\n",
    "        '$[\\overline{2}110]$'\n",
    "    ])\n",
    "axtd.set_title('TD', y=1.08)\n",
    "# normal direction\n",
    "axnd = fig.add_subplot(133, projection='polar')\n",
    "axnd.scatter(qnd, rnd)\n",
    "axnd.set_yticks([0])\n",
    "axnd.set_yticklabels(['$[0001]$'])\n",
    "axnd.set_xticks(np.arange(0, 2*np.pi, np.pi/3.))\n",
    "axnd.set_xticklabels([\n",
    "        '$[2\\overline{1}\\overline{1}0]$',\n",
    "        '$[11\\overline{2}0]$',\n",
    "        '$[\\overline{1}2\\overline{1}0]$',\n",
    "        '$[\\overline{2}110]$',\n",
    "        '$[\\overline{1}\\overline{1}20]$',\n",
    "        '$[1\\overline{2}10]$'\n",
    "    ])\n",
    "axnd.set_title('ND', y=1.08)\n",
    "plt.tight_layout()"
   ]
  },
  {
   "cell_type": "code",
   "execution_count": null,
   "metadata": {
    "collapsed": true
   },
   "outputs": [],
   "source": []
  }
 ],
 "metadata": {
  "kernelspec": {
   "display_name": "Python 2",
   "language": "python",
   "name": "python2"
  },
  "language_info": {
   "codemirror_mode": {
    "name": "ipython",
    "version": 2
   },
   "file_extension": ".py",
   "mimetype": "text/x-python",
   "name": "python",
   "nbconvert_exporter": "python",
   "pygments_lexer": "ipython2",
   "version": "2.7.11"
  }
 },
 "nbformat": 4,
 "nbformat_minor": 0
}
