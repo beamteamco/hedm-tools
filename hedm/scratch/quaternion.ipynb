{
 "cells": [
  {
   "cell_type": "code",
   "execution_count": 19,
   "metadata": {
    "collapsed": true
   },
   "outputs": [],
   "source": [
    "import numpy as np"
   ]
  },
  {
   "cell_type": "code",
   "execution_count": 41,
   "metadata": {
    "collapsed": false
   },
   "outputs": [],
   "source": [
    "class Quaternion(np.ndarray):\n",
    "    def __new__(cls, input_vec=np.ones(4)):\n",
    "        obj = np.asarray(input_vec).view(cls)\n",
    "        if obj.shape[-1] == 3:\n",
    "            obj = np.concatenate(((0,), obj))\n",
    "        if obj.shape[-1] != 4:\n",
    "            msg = 'Quaternions can only be created from 3- or 4-vectors.'\n",
    "            raise ValueError(msg)\n",
    "        return obj\n",
    "    \n",
    "    def __array_finalize__(self, obj):\n",
    "        if obj is None:\n",
    "            return\n",
    "    \n",
    "    def __add__(self, vec_):\n",
    "        \"\"\"\n",
    "        Quaternion addition between two quaternions or a quaternion and a\n",
    "        3-vector.\n",
    "        \"\"\"\n",
    "        lhs = self.view(np.ndarray)\n",
    "        rhs = np.asarray(vec_)\n",
    "        return Quaternion(lhs + rhs)\n",
    "    \n",
    "    def __radd__(self, vec_):\n",
    "        return self + vec_\n",
    "            \n",
    "    def __mul__(self, vec_):\n",
    "        \"\"\"\n",
    "        Quaternion multiplication between two quaternions or a quaternion and a\n",
    "        3-vector.\n",
    "        \n",
    "        $$\n",
    "            ab = (a_0 b_0 - \\vec{a}\\cdot\\vec{b}; a_0 \\vec{b} + b_0 \\vec{a} + \\vec{a} \\times \\vec{b})\n",
    "        $$\n",
    "        \"\"\"\n",
    "        vec_ = Quaternion(vec_)\n",
    "        a1, b1, c1, d1 = self\n",
    "        a2, b2, c2, d2 = vec_\n",
    "        result = Quaternion([\n",
    "                a1*a2 - b1*b2 - c1*c2 - d1*d2,\n",
    "                a1*b2 + b1*a2 + c1*d2 - d1*c2,\n",
    "                a1*c2 - b1*d2 + c1*a2 + d1*b2,\n",
    "                a1*d2 + b1*c2 - c1*b2 + d1*a2])\n",
    "        return result"
   ]
  },
  {
   "cell_type": "code",
   "execution_count": 102,
   "metadata": {
    "collapsed": false
   },
   "outputs": [],
   "source": [
    "# implementations from https://en.wikipedia.org/wiki/Quaternions_and_spatial_rotation\n",
    "def asquaternion(vec_):\n",
    "    if isinstance(vec_, Quaternion):\n",
    "        return vec_\n",
    "    else:\n",
    "        return Quaternion(vec_)\n",
    "    \n",
    "def normalize(quaternion):\n",
    "    \"\"\"\n",
    "    Normalize the quaternion. A normalized quaternion is of the form\n",
    "    \n",
    "    $$\n",
    "        \\cos(\\theta/2) + \\sin(\\theta/2) \\vec{v}/|\\vec{v}|\n",
    "    $$\n",
    "    \"\"\"\n",
    "    quaternion = asquaternion(quaternion)\n",
    "    cq = quaternion[0]\n",
    "    sq = np.sqrt(1. - cq**2)\n",
    "    quaternion[1:4] /= np.linalg.norm(quaternion[1:4])\n",
    "    quaternion[1:4] *= sq\n",
    "    return quaternion\n",
    "    \n",
    "def inverse(quaternion):\n",
    "    \"\"\"\n",
    "    Returns the inverse of the quaternion.\n",
    "    \"\"\"\n",
    "    result  = np.copy(Quaternion(quaternion)).view(np.ndarray)\n",
    "    result *= (1, -1, -1, -1)\n",
    "    return asquaternion(result)\n",
    "    \n",
    "def from_matrix(matrix_):\n",
    "    \"\"\"\n",
    "    Sets the quaternion from the rotation matrix.\n",
    "    \"\"\"\n",
    "    if matrix_.shape != (3,3):\n",
    "        raise ValueError('Rotation matrix must be a (3,3) matrix.')\n",
    "    xx, xy, xz = matrix_[:,0]\n",
    "    yx, yy, yz = matrix_[:,1]\n",
    "    zx, zy, zz = matrix_[:,2]\n",
    "    K = 1./3.*np.array([\n",
    "            [xx - yy - zz, yx + xy, zx + xz, yz - zy],\n",
    "            [yx + xy, yy - xx - zz, zy + yz, zx - xz],\n",
    "            [zx + xz, zy + yz, zz - xx - yy, xy - yx],\n",
    "            [yz - zy, zx - xz, xy - yx, xx + yy + zz]])\n",
    "    # the constructs a quaternion that is a closest fit to the\n",
    "    # rotation in `matrix_`. If `matrix_` is pure rotation,\n",
    "    # then `s[0]` is 1.\n",
    "    U,s,V = np.linalg.svd(K, full_matrices=False)\n",
    "    if not np.isclose(s[0], 1):\n",
    "        raise ValueError('Rotation matrix {} is not a pure rotation.'.format(matrix_))\n",
    "    (x, y, z, w) = U[:,0]\n",
    "    return Quaternion((w, x, y, z))\n",
    "\n",
    "def from_axis_angle(axis_, angle_):\n",
    "    \"\"\"\n",
    "    Sets the quaternion from the axis/angle pair. Angle should be in degrees.\n",
    "    \"\"\"\n",
    "    axis_ = np.asarray(axis_)/np.linalg.norm(axis_)\n",
    "    # Note: quaternion uses half angles because rotation w' <- q w q*\n",
    "    angle_ = np.radians(angle_)/2.\n",
    "    cq = np.cos(angle_)\n",
    "    sq = np.sin(angle_)\n",
    "    return Quaternion(np.concatenate(((cq,), sq*axis_)))\n",
    "    \n",
    "def from_u_to_v(u_, v_):\n",
    "    \"\"\"\n",
    "    Sets the quaternion to rotation `u` into `v`.\n",
    "    \"\"\"\n",
    "    u_ = np.copy(u_)/np.linalg.norm(u_)\n",
    "    v_ = np.copy(v_)/np.linalg.norm(v_)\n",
    "    axis_ = np.cross(u_, v_)\n",
    "    angle_ = np.degrees(np.arccos(np.dot(u_, v_)))\n",
    "    return from_axis_angle(axis_, angle_)\n",
    "    \n",
    "def to_matrix(quaternion):\n",
    "    \"\"\"\n",
    "    Converts the quaternion into an equivalent rotation matrix.\n",
    "    \"\"\"\n",
    "    quaternion = asquaternion(quaternion)\n",
    "    a, b, c, d = normalize(quaternion)\n",
    "    return np.array([\n",
    "            [a*a + b*b - c*c - d*d, 2*b*c - 2*a*d, 2*b*d + 2*a*c],\n",
    "            [2*b*c + 2*a*d, a*a - b*b + c*c - d*d, 2*c*d - 2*a*b],\n",
    "            [2*b*d - 2*a*c, 2*c*d + 2*a*b, a*a - b*b - c*c + d*d]])\n",
    "\n",
    "def to_axis_angle(quaternion):\n",
    "    \"\"\"\n",
    "    Converts the quaternion into an equivalent axis/angle pair.\n",
    "    The angle is given in degrees. The vector is normalized.\n",
    "    \"\"\"\n",
    "    angle_ = np.degrees(2.*np.arccos(quaternion[0]))\n",
    "    axis_  = np.asarray(quaternion[1:4])\n",
    "    axis_ /= np.linalg.norm(axis_)\n",
    "    return (axis_, angle_)"
   ]
  },
  {
   "cell_type": "markdown",
   "metadata": {},
   "source": [
    "## Test quaterion functions"
   ]
  },
  {
   "cell_type": "code",
   "execution_count": 112,
   "metadata": {
    "collapsed": false
   },
   "outputs": [],
   "source": [
    "Rz = lambda q: np.array([\n",
    "        [ np.cos(q),  np.sin(q), 0],\n",
    "        [-np.sin(q),  np.cos(q), 0],\n",
    "        [         0,          0, 1]])\n",
    "\n",
    "Rx = lambda q: np.array([\n",
    "        [ 1,          0,          0],\n",
    "        [ 0,  np.cos(q),  np.sin(q)],\n",
    "        [ 0, -np.sin(q),  np.cos(q)]])\n",
    "\n",
    "def euler_matrix(phi, theta, psi):\n",
    "    \"\"\"\n",
    "    All angles are in degrees.\n",
    "    \n",
    "    1. Rotation by angle phi about the z-axis\n",
    "    2. Rotation by angle theta about the former x-axis (now x')\n",
    "    3. Rotation by angle psi about the former z-axis (now z')\n",
    "    \"\"\"\n",
    "    assert (0 <= theta <= 180.), \\\n",
    "        \"Theta must lie between 0 and 180 degrees, inclusively.\"\n",
    "    phi = np.radians(phi)\n",
    "    theta = np.radians(theta)\n",
    "    psi = np.radians(psi)\n",
    "    return np.dot(Rz(psi), np.dot(Rx(theta), Rz(phi)))"
   ]
  },
  {
   "cell_type": "code",
   "execution_count": 128,
   "metadata": {
    "collapsed": false
   },
   "outputs": [],
   "source": [
    "# check conversion from rotation matrix\n",
    "theta, phi, psi = 180*np.random.random(3)\n",
    "\n",
    "# create test vectors\n",
    "x = np.random.random(3)\n",
    "x /= np.linalg.norm(x)\n",
    "\n",
    "u,v = np.random.random((2, 3))\n",
    "u /= np.linalg.norm(u)\n",
    "v /= np.linalg.norm(v)\n",
    "\n",
    "axis, angle = np.random.random(3), 180*np.random.random()\n",
    "axis /= np.linalg.norm(axis)\n",
    "\n",
    "# create matrices\n",
    "R = euler_matrix(theta, phi, psi)\n",
    "Qm = from_matrix(R)\n",
    "Quv = from_u_to_v(u, v)\n",
    "Qaa = from_axis_angle(axis, angle)"
   ]
  },
  {
   "cell_type": "code",
   "execution_count": 129,
   "metadata": {
    "collapsed": false
   },
   "outputs": [
    {
     "name": "stdout",
     "output_type": "stream",
     "text": [
      "Quaternion rotation matches matrix rotation...  pass\n"
     ]
    }
   ],
   "source": [
    "# test matrix rotation\n",
    "rxR = np.dot(R, x[:, np.newaxis]).flatten()\n",
    "# quaternion rotation\n",
    "rxQ = Qm*x*inverse(Qm)\n",
    "\n",
    "# verify\n",
    "print 'Quaternion rotation matches matrix rotation... ',\n",
    "if np.allclose(rxR, np.asarray(rxQ[1:])):\n",
    "    print \"pass\"\n",
    "else:\n",
    "    print \"fail\""
   ]
  },
  {
   "cell_type": "code",
   "execution_count": 130,
   "metadata": {
    "collapsed": false
   },
   "outputs": [
    {
     "name": "stdout",
     "output_type": "stream",
     "text": [
      "Quaternion conversion to matrix... pass\n"
     ]
    }
   ],
   "source": [
    "# check conversion to rotation matrix\n",
    "print \"Quaternion conversion to matrix...\",\n",
    "if np.allclose(to_matrix(Qm), R):\n",
    "    print \"pass\"\n",
    "else:\n",
    "    print \"fail\""
   ]
  },
  {
   "cell_type": "code",
   "execution_count": null,
   "metadata": {
    "collapsed": true
   },
   "outputs": [],
   "source": [
    "# TODO: test axis/angle rotation\n",
    "# create a rotation matrix from an axis/angle pair\n",
    "# perform axis/angle rotation\n",
    "# perform quaternion rotation\n",
    "# compare axis/angle rotation to equivalent quaternion rotation"
   ]
  },
  {
   "cell_type": "code",
   "execution_count": 131,
   "metadata": {
    "collapsed": false
   },
   "outputs": [
    {
     "name": "stdout",
     "output_type": "stream",
     "text": [
      "Quaternion conversion to axis/angle... pass\n"
     ]
    }
   ],
   "source": [
    "# check conversion to axis/angle\n",
    "print \"Quaternion conversion to axis/angle...\",\n",
    "caxis, cangle = to_axis_angle(Qaa)\n",
    "if np.isclose(cangle, angle) and np.allclose(caxis, axis):\n",
    "    print \"pass\"\n",
    "else:\n",
    "    print \"fail: ({}, {}) != ({}, {})\".format(caxis, cangle, axis, angle)"
   ]
  },
  {
   "cell_type": "code",
   "execution_count": null,
   "metadata": {
    "collapsed": true
   },
   "outputs": [],
   "source": []
  }
 ],
 "metadata": {
  "kernelspec": {
   "display_name": "Python 2",
   "language": "python",
   "name": "python2"
  },
  "language_info": {
   "codemirror_mode": {
    "name": "ipython",
    "version": 2
   },
   "file_extension": ".py",
   "mimetype": "text/x-python",
   "name": "python",
   "nbconvert_exporter": "python",
   "pygments_lexer": "ipython2",
   "version": "2.7.11"
  }
 },
 "nbformat": 4,
 "nbformat_minor": 0
}
