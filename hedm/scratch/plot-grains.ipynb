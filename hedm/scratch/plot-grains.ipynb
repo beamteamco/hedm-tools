{
 "cells": [
  {
   "cell_type": "code",
   "execution_count": null,
   "metadata": {
    "collapsed": true
   },
   "outputs": [],
   "source": [
    "grains_filename = 'Grains.csv'"
   ]
  },
  {
   "cell_type": "markdown",
   "metadata": {},
   "source": [
    "# Instructions\n",
    "\n",
    "In the cell above, change the filename to the one you want to plot, then from the menu bar, select `Cell >> Run All`. It will produce the following plots:\n",
    "\n",
    "1. Confidence\n",
    "2. Equivalent strain\n",
    "3. Normal strain ($\\varepsilon_{zz} \\neq 0$)\n",
    "4. Plane strain ($\\varepsilon_{xx,yy} \\neq 0$)\n",
    "5. Shear strain ($\\gamma_{ij} \\neq 0$)\n",
    "    \n",
    "Plots 2-5 use\n",
    "\n",
    "$$\n",
    "    \\epsilon_{eq} = \\frac{2}{3} \\sqrt{\\frac{3 (\\varepsilon_{xx}^2 + \\varepsilon_{yy}^2 + \\varepsilon_{zz}^2)}{2} + \\frac{3 (\\gamma_{xy}^2 + \\gamma_{yz}^2 + \\gamma_{zx}^2)}{4}}\n",
    "$$\n",
    "\n",
    "where\n",
    "\n",
    "$$\n",
    "    \\varepsilon_{xx} =  2/3 \\epsilon_{xx} - 1/3 \\epsilon_{yy} - 1/3 \\epsilon_{zz} \\\\\n",
    "    \\varepsilon_{yy} = -1/3 \\epsilon_{xx} + 2/3 \\epsilon_{yy} - 1/3 \\epsilon_{zz} \\\\\n",
    "    \\varepsilon_{zz} = -1/3 \\epsilon_{xx} - 1/3 \\epsilon_{yy} + 2/3 \\epsilon_{zz} \\\\\n",
    "    \\gamma_{ij} = 2 \\epsilon_{ij},\\ i \\neq j\n",
    "$$\n",
    "\n",
    "givan a strain matrix,\n",
    "\n",
    "$$\n",
    "    \\epsilon = \\left(\\begin{array}{c c c}\n",
    "        \\epsilon_{xx} & \\epsilon_{xy} & \\epsilon_{xz} \\\\\n",
    "        \\epsilon_{yx} & \\epsilon_{yy} & \\epsilon_{yz} \\\\\n",
    "        \\epsilon_{zx} & \\epsilon_{zy} & \\epsilon_{zz}\\end{array}\\right)\n",
    "$$"
   ]
  },
  {
   "cell_type": "code",
   "execution_count": 1,
   "metadata": {
    "collapsed": false
   },
   "outputs": [
    {
     "name": "stdout",
     "output_type": "stream",
     "text": [
      "Using matplotlib backend: MacOSX\n",
      "Populating the interactive namespace from numpy and matplotlib\n"
     ]
    }
   ],
   "source": [
    "%pylab"
   ]
  },
  {
   "cell_type": "code",
   "execution_count": 2,
   "metadata": {
    "collapsed": false
   },
   "outputs": [],
   "source": [
    "import numpy as np\n",
    "from matplotlib import pyplot as plt\n",
    "from hedm import plot"
   ]
  },
  {
   "cell_type": "markdown",
   "metadata": {},
   "source": [
    "# Read grains.csv"
   ]
  },
  {
   "cell_type": "code",
   "execution_count": 3,
   "metadata": {
    "collapsed": true
   },
   "outputs": [],
   "source": [
    "grains = np.genfromtxt(grains_filename, skip_header=8, names=True, dtype=None)"
   ]
  },
  {
   "cell_type": "code",
   "execution_count": 4,
   "metadata": {
    "collapsed": false
   },
   "outputs": [],
   "source": [
    "xyz = grains[np.array(['X', 'Y', 'Z'])].view(np.float64).reshape((-1, 3))\n",
    "Mc = grains[np.array([\n",
    "            'O11', 'O12', 'O13',\n",
    "            'O21', 'O22', 'O23',\n",
    "            'O31', 'O32', 'O33'])].view(np.float64).reshape((-1, 3, 3))\n",
    "efab = grains[np.array([\n",
    "            'eFab11', 'eFab12', 'eFab13',\n",
    "            'eFab21', 'eFab22', 'eFab23',\n",
    "            'eFab31', 'eFab32', 'eFab33'])].view(np.float64).reshape((-1, 3, 3))"
   ]
  },
  {
   "cell_type": "code",
   "execution_count": 5,
   "metadata": {
    "collapsed": true
   },
   "outputs": [],
   "source": [
    "# Transform from MIDAS coordinates to loading coordinates\n",
    "#   1. +90 degree rotation about MIDAS X\n",
    "#   2. +45 degree rotation about new Z\n",
    "# 90 degree\n",
    "q = np.radians(90)\n",
    "c, s = np.cos(q), np.sin(q)\n",
    "Rx = np.matrix([\n",
    "        [1, 0, 0],\n",
    "        [0, c, s],\n",
    "        [0, -s, c]])\n",
    "# 45 degree\n",
    "q = np.radians(45)\n",
    "c, s = np.cos(q), np.sin(q)\n",
    "Rz = np.matrix([\n",
    "        [c, s, 0],\n",
    "        [-s, c, 0],\n",
    "        [0, 0, 1]])\n",
    "# to Loading from MIDAS\n",
    "Lm = Rz*Rx"
   ]
  },
  {
   "cell_type": "code",
   "execution_count": 6,
   "metadata": {
    "collapsed": false
   },
   "outputs": [],
   "source": [
    "# transform XYZ\n",
    "xyz = np.array([x*(Lm.T) for x in xyz]).view(np.float64).reshape((-1, 3))\n",
    "# transform orientation matrix, Mc\n",
    "Lc = np.array([Lm*mat for mat in Mc])\n",
    "# transform strain\n",
    "efab = np.array([Lm*e for e in efab])"
   ]
  },
  {
   "cell_type": "code",
   "execution_count": 7,
   "metadata": {
    "collapsed": false
   },
   "outputs": [],
   "source": [
    "# equivalent (von Mises) strain\n",
    "exx =  2./3.*efab[:, 0, 0] - 1./3.*efab[:, 1, 1] - 1./3.*efab[:, 2, 2]\n",
    "eyy = -1./3.*efab[:, 0, 0] + 2./3.*efab[:, 1, 1] - 1./3.*efab[:, 2, 2]\n",
    "ezz = -1./3.*efab[:, 0, 0] - 1./3.*efab[:, 1, 1] + 2./3.*efab[:, 2, 2]\n",
    "exy = 2*efab[:, 0, 1]\n",
    "eyz = 2*efab[:, 1, 2]\n",
    "ezx = 2*efab[:, 2, 0]\n",
    "equiv  = 2./3.*np.sqrt(3*(exx**2 + eyy**2 + ezz**2)/2. + 3*(exy**2 + eyz**2 + ezx**2)/4.)\n",
    "normal = 2./3.*np.sqrt(3*(  0**2 +   0**2 + ezz**2)/2.)\n",
    "plane  = 2./3.*np.sqrt(3*(exx**2 + eyy**2 +   0**2)/2.)\n",
    "shear  = 2./3.*np.sqrt(3*(exy**2 + eyz**2 + ezx**2)/4.)"
   ]
  },
  {
   "cell_type": "markdown",
   "metadata": {},
   "source": [
    "# Plot"
   ]
  },
  {
   "cell_type": "code",
   "execution_count": 8,
   "metadata": {
    "collapsed": false
   },
   "outputs": [],
   "source": [
    "x, y, z = xyz.T\n",
    "\n",
    "# #fig = plt.figure()\n",
    "# left = plt.subplot2grid((3, 4), (0, 0), colspan=3, rowspan=3, projection='hedm')\n",
    "# top  = plt.subplot2grid((3, 4), (0, 3), projection='hedm')\n",
    "# mid  = plt.subplot2grid((3, 4), (1, 3), projection='hedm')\n",
    "# bot  = plt.subplot2grid((3, 4), (2, 3), projection='hedm')\n",
    "\n",
    "plt.rc('text', usetex=True)\n",
    "plt.rc('font', family='serif')\n",
    "plt.ion()\n",
    "\n",
    "figsize=(12,8)\n",
    "\n",
    "# plot confidence\n",
    "fig = plt.figure(figsize=figsize)\n",
    "ax = fig.add_subplot(111, projection='hedm')\n",
    "pc = ax.grains3D(x, y, z, Lc, c=grains['Confidence'], s=grains['GrainRadius'], crystal='hexagonal')\n",
    "cb = plt.colorbar(pc, ax=ax)\n",
    "ax.set_xlabel('X ($\\mathrm{\\mu m}$)')\n",
    "ax.set_ylabel('Y ($\\mathrm{\\mu m}$)')\n",
    "ax.set_zlabel('Z ($\\mathrm{\\mu m}$)')\n",
    "cb.set_label('confidence (Fable-sense)')\n",
    "ax.set_title('Grain Confidence')\n",
    "\n",
    "# plot equivalent strain\n",
    "fig = plt.figure(figsize=figsize)\n",
    "ax = fig.add_subplot(111, projection='hedm')\n",
    "pc = ax.grains3D(x, y, z, Lc, c=equiv, s=grains['GrainRadius'], crystal='hexagonal')\n",
    "cb = plt.colorbar(pc, ax=ax)\n",
    "ax.set_xlabel('X ($\\mathrm{\\mu m}$)')\n",
    "ax.set_ylabel('Y ($\\mathrm{\\mu m}$)')\n",
    "ax.set_zlabel('Z ($\\mathrm{\\mu m}$)')\n",
    "cb.set_label('equivalent strain ($\\mathrm{\\mu \\epsilon}$)')\n",
    "ax.set_title('Equivalent Strain')\n",
    "\n",
    "# plot normal strain\n",
    "fig = plt.figure(figsize=figsize)\n",
    "ax = fig.add_subplot(111, projection='hedm')\n",
    "pc = ax.grains3D(x, y,z, Lc, c=normal, s=grains['GrainRadius'], crystal='hexagonal')\n",
    "cb = plt.colorbar(pc, ax=ax)\n",
    "ax.set_xlabel('X ($\\mathrm{\\mu m}$)')\n",
    "ax.set_ylabel('Y ($\\mathrm{\\mu m}$)')\n",
    "ax.set_zlabel('Z ($\\mathrm{\\mu m}$)')\n",
    "cb.set_label('normal strain ($\\mathrm{\\mu \\epsilon}$)')\n",
    "ax.set_title('Normal Strain')\n",
    "\n",
    "# plot plane strain\n",
    "fig = plt.figure(figsize=figsize)\n",
    "ax = fig.add_subplot(111, projection='hedm')\n",
    "pc = ax.grains3D(x, y,z, Lc, c=plane, s=grains['GrainRadius'], crystal='hexagonal')\n",
    "cb = plt.colorbar(pc, ax=ax)\n",
    "ax.set_xlabel('X ($\\mathrm{\\mu m}$)')\n",
    "ax.set_ylabel('Y ($\\mathrm{\\mu m}$)')\n",
    "ax.set_zlabel('Z ($\\mathrm{\\mu m}$)')\n",
    "cb.set_label('in-plane ($\\mathrm{\\mu \\epsilon}$)')\n",
    "ax.set_title('Plane Strain')\n",
    "\n",
    "# plot shear\n",
    "fig = plt.figure(figsize=figsize)\n",
    "ax = fig.add_subplot(111, projection='hedm')\n",
    "pc = ax.grains3D(x, y,z, Lc, c=shear, s=grains['GrainRadius'], crystal='hexagonal')\n",
    "cb = plt.colorbar(pc, ax=ax)\n",
    "ax.set_xlabel('X ($\\mathrm{\\mu m}$)')\n",
    "ax.set_ylabel('Y ($\\mathrm{\\mu m}$)')\n",
    "ax.set_zlabel('Z ($\\mathrm{\\mu m}$)')\n",
    "cb.set_label('shear strain ($\\mathrm{\\mu \\epsilon}$)')\n",
    "ax.set_title('Shear Strain')\n",
    "\n",
    "plt.draw()\n",
    "plt.show()"
   ]
  },
  {
   "cell_type": "code",
   "execution_count": null,
   "metadata": {
    "collapsed": true
   },
   "outputs": [],
   "source": []
  }
 ],
 "metadata": {
  "kernelspec": {
   "display_name": "Python 2",
   "language": "python",
   "name": "python2"
  },
  "language_info": {
   "codemirror_mode": {
    "name": "ipython",
    "version": 2
   },
   "file_extension": ".py",
   "mimetype": "text/x-python",
   "name": "python",
   "nbconvert_exporter": "python",
   "pygments_lexer": "ipython2",
   "version": "2.7.11"
  }
 },
 "nbformat": 4,
 "nbformat_minor": 0
}
