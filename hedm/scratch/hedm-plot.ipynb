{
 "cells": [
  {
   "cell_type": "code",
   "execution_count": 1,
   "metadata": {
    "collapsed": false
   },
   "outputs": [
    {
     "name": "stdout",
     "output_type": "stream",
     "text": [
      "Using matplotlib backend: MacOSX\n",
      "Populating the interactive namespace from numpy and matplotlib\n"
     ]
    }
   ],
   "source": [
    "%pylab"
   ]
  },
  {
   "cell_type": "code",
   "execution_count": 38,
   "metadata": {
    "collapsed": false
   },
   "outputs": [],
   "source": [
    "import quaternion\n",
    "from mpl_toolkits import mplot3d\n",
    "from mpl_toolkits.mplot3d.art3d import Poly3DCollection\n",
    "from mpl_toolkits.mplot3d import proj3d\n",
    "import numpy\n",
    "from matplotlib.colors import colorConverter, Normalize\n",
    "from matplotlib.colorbar import ColorbarBase\n",
    "from matplotlib import cm"
   ]
  },
  {
   "cell_type": "raw",
   "metadata": {
    "collapsed": true
   },
   "source": [
    "class CubeAxes(plt.Axes):\n",
    "    \"\"\"An Axes for displaying a 3D cube\"\"\"\n",
    "    # fiducial face is perpendicular to z at z=+1\n",
    "    one_face = np.array([[1, 1, 1], [1, -1, 1], [-1, -1, 1], [-1, 1, 1], [1, 1, 1]])\n",
    "\n",
    "    # construct six rotators for the face\n",
    "    x, y, z = np.eye(3)\n",
    "    rots  = [quaternion.from_axis_angle(x, theta) for theta in (90, -90)]\n",
    "    rots += [quaternion.from_axis_angle(y, theta) for theta in (90, -90)]\n",
    "    rots += [quaternion.from_axis_angle(y, theta) for theta in (180, 0)]\n",
    "    \n",
    "    # colors of the faces\n",
    "    colors = ['blue', 'green', 'white', 'yellow', 'orange', 'red']\n",
    "    \n",
    "    def __init__(self, fig, rect=[0, 0, 1, 1], *args, **kwargs):\n",
    "        # We want to set a few of the arguments\n",
    "        kwargs.update(dict(xlim=(-2.5, 2.5), ylim=(-2.5, 2.5), frameon=False,\n",
    "                           xticks=[], yticks=[], aspect='equal'))\n",
    "        super(CubeAxes, self).__init__(fig, rect, *args, **kwargs)\n",
    "        self.xaxis.set_major_formatter(plt.NullFormatter())\n",
    "        self.yaxis.set_major_formatter(plt.NullFormatter())\n",
    "        \n",
    "        # define the current rotation\n",
    "        self.current_rot = quaternion.from_axis_angle((1, 1, 0), 30)\n",
    "        \n",
    "    \n",
    "    def draw_cube(self):\n",
    "        \"\"\"draw a cube rotated by theta around the given vector\"\"\"\n",
    "        # rotate the six faces\n",
    "        Rs = [quaternion.to_matrix(self.current_rot * rot) for rot in self.rots]\n",
    "        faces = [np.dot(self.one_face, R.T) for R in Rs]\n",
    "        \n",
    "        # project the faces: we'll use the z coordinate\n",
    "        # for the z-order\n",
    "        faces_proj = [face[:, :2] for face in faces]\n",
    "        zorder = [face[:4, 2].sum() for face in faces]\n",
    "        \n",
    "        # create the polygons if needed.\n",
    "        # if they're already drawn, then update them\n",
    "        if not hasattr(self, '_polys'):\n",
    "            self._polys = [plt.Polygon(faces_proj[i], fc=self.colors[i],\n",
    "                                       alpha=0.9, zorder=zorder[i])\n",
    "                           for i in range(6)]\n",
    "            for poly in self._polys:\n",
    "                self.add_patch(poly)\n",
    "        else:\n",
    "            for i in range(6):\n",
    "                self._polys[i].set_xy(faces_proj[i])\n",
    "                self._polys[i].set_zorder(zorder[i])\n",
    "                \n",
    "        self.figure.canvas.draw()"
   ]
  },
  {
   "cell_type": "raw",
   "metadata": {
    "collapsed": false
   },
   "source": [
    "fig = plt.figure(figsize=(4,4))\n",
    "ax = CubeAxes(fig)\n",
    "fig.add_axes(ax)\n",
    "ax.draw_cube()\n",
    "display(fig)"
   ]
  },
  {
   "cell_type": "code",
   "execution_count": 23,
   "metadata": {
    "collapsed": true
   },
   "outputs": [],
   "source": [
    "class UnitCell(object):\n",
    "    def __init__(self, top, bottom, *args, **kwargs):\n",
    "        \"\"\"\n",
    "        Constructs a unit cell object. This base class presents\n",
    "        a consistent API for subsequently derived types of unit\n",
    "        cells -- e.g. cubic, tetragonal, etc. -- which follow.\n",
    "        \n",
    "        The vertices from the top face and bottom face are\n",
    "        sufficient to construct the unit cell. The vertices\n",
    "        from the top and bottom face should correlate, i.e. an\n",
    "        edge is shared between the first vertex in the top face\n",
    "        and the first vertex in the bottom face; the second, and\n",
    "        the second; etc. The top and the bottom faces should\n",
    "        \"close the loop\" on the face, i.e. the first and the\n",
    "        last vertices should be the same.\n",
    "\n",
    "        Description\n",
    "\n",
    "            faces: returns an array of the faces that compose\n",
    "                the unit cell\n",
    "\n",
    "            rotate(q): rotates the unit cell by applying the\n",
    "                specified rotation function. `q` should accept\n",
    "                a 3-vector, v, and return the rotated 3-vector\n",
    "                v'\n",
    "\n",
    "            scale(s): scale the unit cell vertices. If `s` is\n",
    "                a scalar, then a uniform scaling is applied,\n",
    "                otherwise, `s = (sx, sy, sz)`.\n",
    "            \n",
    "            aspolycollection(facecolors, alpha): returns the\n",
    "                UnitCell as a matplotlib.PolyCollection object.\n",
    "                Facecolors and alpha (both optional) set the\n",
    "                color of each face and the transparency of the\n",
    "                object, respectively.\n",
    "\n",
    "            __add__(vec): operator overload `cell + vec` returns\n",
    "                a copy of all faces translated by `vec`\n",
    "            \n",
    "            __sub__(vec): operator overload `cell - vec` returns\n",
    "                a copy of all faces translated by `vec`\n",
    "                \n",
    "        \"\"\"\n",
    "        super(UnitCell, self).__init__(*args, **kwargs)\n",
    "        _faces = [top]\n",
    "        for ((t1, t2), (b1, b2)) in zip(zip(top[:-1], top[1:]), zip(bottom[:-1], bottom[1:])):\n",
    "            _faces.append([t1, b1, b2, t2, t1])\n",
    "        _faces.append(bottom)\n",
    "        self.faces = _faces\n",
    "\n",
    "    @property\n",
    "    def faces(self):\n",
    "        return self._faces\n",
    "    @faces.setter\n",
    "    def faces(self, faces_):\n",
    "        self._faces = [np.asarray(face) for face in faces_]\n",
    "    \n",
    "    def _rotate(self, qfunc):\n",
    "        \"\"\"\n",
    "        Rotates the faces in UnitCell according to `qfunc(x)`, where `x`\n",
    "        is a vertex.\n",
    "        \"\"\"\n",
    "        self.faces = [np.apply_along_axis(qfunc, -1, face) for face in self.faces]\n",
    "    \n",
    "    def rotate(self, *rotation):\n",
    "        \"\"\"\n",
    "        Rotate the UnitCell. The rotation is specified as one of:\n",
    "        \n",
    "            axis, angle: axis/angle pair; angle in degrees.\n",
    "            quaternion: single Quaternion object\n",
    "            rotation matrix: 3x3 rotation matrix\n",
    "        \n",
    "        Examples\n",
    "        \n",
    "            `ucell.rotate(axis, angle)`\n",
    "            `ucell.rotate(quaternion)`\n",
    "            `ucell.rotate(rotation_matrix)`\n",
    "        \"\"\"\n",
    "        # infer argument types based on number/type\n",
    "        # convert to rotation matrix\n",
    "        try:\n",
    "            # two arguments --> axis/angle pair\n",
    "            axis, angle = rotation\n",
    "            rotation_matrix = quaternion.to_matrix(quaternion.from_axis_angle(axis, angle))\n",
    "        except ValueError:\n",
    "            # invalid arguments passed to rotate\n",
    "            if len(rotation) != 1:\n",
    "                raise ValueError('An invalid number of arguments were passed to \"rotate\".')\n",
    "            # single argument --> quaternion or rotation matrix\n",
    "            obj, = rotation # comma because args is a tuple\n",
    "            if isinstance(obj, quaternion.Quaternion):\n",
    "                rotation_matrix = quaternion.to_matrix(obj)\n",
    "            else:\n",
    "                rotation_matrix = np.asarray(obj)\n",
    "        # confirm the shape of the rotation matrix\n",
    "        if rotation_matrix.shape != (3,3):\n",
    "            raise ValueError('Rotation matrix must be given as a 3x3 array.')\n",
    "        # perform rotation\n",
    "        qfunc = lambda x : np.dot(x, rotation_matrix.T)\n",
    "        return self._rotate(qfunc)\n",
    "    \n",
    "    def scale(self, *s):\n",
    "        \"\"\"\n",
    "        Scale the vertices of the unit cell. If `s` is a single value, scale isotropically;\n",
    "        if not, \n",
    "        \"\"\"\n",
    "        if len(s) == 1:\n",
    "            s = s[0]*np.ones(3)\n",
    "        s = np.asarray(s)\n",
    "        scale_ = lambda x : np.multiply(s, x)\n",
    "        self.faces = [np.apply_along_axis(scale_, -1, face) for face in self.faces]\n",
    "        \n",
    "    def __add__(self, vec_):\n",
    "        op = lambda x : np.add(x, vec_)\n",
    "        return [np.apply_along_axis(op, -1, face) for face in self.faces]\n",
    "    \n",
    "    def __sub__(self, vec_):\n",
    "        op = lambda x : np.subtract(x, vec_)\n",
    "        return [np.apply_along_axis(op, -1, face) for face in self.faces]\n",
    "    \n",
    "    def polycollection(self, facecolors='r', alpha=1.0, linewidths=1):\n",
    "        \"\"\"\n",
    "        Constructs and returns a polygonal representation of the UnitCell.\n",
    "        \n",
    "        Example\n",
    "        \n",
    "        ```\n",
    "            fig = plt.figure()\n",
    "            ax = fig.add_subplot(111, projection='3d')\n",
    "            poly = ucell.polycollection()\n",
    "            # uncomment to plot vertices as points\n",
    "            # ax.scatter(*np.transpose(np.reshape(ucell.faces, (-1, 3))), c='k')\n",
    "            ax.add_collection3d(poly)\n",
    "        \"\"\"\n",
    "        nfaces = len(self.faces)\n",
    "        if isinstance(facecolors, str):\n",
    "            facecolors = (facecolors,)\n",
    "        if len(facecolors) == 1:\n",
    "            facecolors = len(self.faces)*facecolors\n",
    "        if len(facecolors) != nfaces:\n",
    "            raise ValueError('Either {} or a uniform color must be given ' \\\n",
    "                             'for this UnitCell.'.format(nfaces))\n",
    "        if isinstance(facecolors[0], str):\n",
    "            facecolors = [colorConverter.to_rgba(fc, alpha=alpha) for fc in facecolors]\n",
    "        return Poly3DCollection(\n",
    "            self.faces,\n",
    "            facecolors=facecolors,\n",
    "            linewidths=linewidths,\n",
    "            alpha=alpha)\n"
   ]
  },
  {
   "cell_type": "code",
   "execution_count": 24,
   "metadata": {
    "collapsed": true
   },
   "outputs": [],
   "source": [
    "class Cubic(UnitCell):\n",
    "    def __init__(self, *args, **kwargs):\n",
    "        \"\"\"\n",
    "        Construct a cubic unit cell. See `UnitCell` documentation for\n",
    "        accepted operations.\n",
    "        \"\"\"\n",
    "        top = 0.5*np.array([\n",
    "            [1, 1, 1], [-1, 1, 1], [-1, -1, 1], [1, -1, 1], [1, 1, 1]])\n",
    "        bottom = 0.5*np.array([\n",
    "            [1, 1, -1], [-1, 1, -1], [-1, -1, -1], [1, -1, -1], [1, 1, -1]])\n",
    "        super(Cubic, self).__init__(top, bottom, *args, **kwargs)"
   ]
  },
  {
   "cell_type": "code",
   "execution_count": 25,
   "metadata": {
    "collapsed": true
   },
   "outputs": [],
   "source": [
    "class Hexagonal(UnitCell):\n",
    "    def __init__(self, c_over_a=1, *args, **kwds):\n",
    "        \"\"\"\n",
    "        Construct a cubic unit cell with an optional c over a ratio\n",
    "        as the first argument.\n",
    "        \"\"\"\n",
    "        x = np.cos(np.pi/3)\n",
    "        y = np.sin(np.pi/3)\n",
    "        h = float(c_over_a)/2.\n",
    "        top = np.array([\n",
    "            [1, 0, h], [x, y, h], [-x, y, h], [-1, 0, h],\n",
    "                [-x, -y, h], [x, -y, h], [1, 0, h]])\n",
    "        bottom = np.array([\n",
    "            [1, 0, -h], [x, y, -h], [-x, y, -h], [-1, 0, -h],\n",
    "                [-x, -y, -h], [x, -y, -h], [1, 0, -h]])\n",
    "        super(Hexagonal, self).__init__(top, bottom, *args, **kwds)"
   ]
  },
  {
   "cell_type": "markdown",
   "metadata": {},
   "source": [
    "## Test cubes"
   ]
  },
  {
   "cell_type": "code",
   "execution_count": 26,
   "metadata": {
    "collapsed": false
   },
   "outputs": [],
   "source": [
    "cubes = []\n",
    "for _ in range(2):\n",
    "    c = Cubic()\n",
    "    c.rotate(np.random.random(3), 180*np.random.random())\n",
    "    c.scale(np.random.random()+2)\n",
    "    c.faces = c + (2.*np.random.random(3) - 1)\n",
    "    cubes.append(c)"
   ]
  },
  {
   "cell_type": "code",
   "execution_count": 27,
   "metadata": {
    "collapsed": false
   },
   "outputs": [],
   "source": [
    "fig = plt.figure()\n",
    "ax = fig.add_subplot(111, projection='3d')\n",
    "colors = ['r', 'g', 'b']\n",
    "for c in cubes:\n",
    "    color = colors.pop()\n",
    "    polys = c.polycollection(facecolors=color)\n",
    "    ax.add_collection3d(polys)\n",
    "#polys = cubic.polycollection()\n",
    "#ax.scatter(*np.transpose(np.reshape(cubic.faces, (-1, 3))), c='k')\n",
    "#ax.add_collection3d(polys)\n",
    "_ = ax.set_xlim(-2, 2)\n",
    "_ = ax.set_ylim(-2, 2)\n",
    "_ = ax.set_zlim(-2, 2)\n",
    "fig.show()"
   ]
  },
  {
   "cell_type": "markdown",
   "metadata": {},
   "source": [
    "## Test hexagonal"
   ]
  },
  {
   "cell_type": "code",
   "execution_count": 29,
   "metadata": {
    "collapsed": false
   },
   "outputs": [],
   "source": [
    "hexes = []\n",
    "for _ in range(2):\n",
    "    c = Hexagonal()\n",
    "    c.rotate(np.random.random(3), 180*np.random.random())\n",
    "    c.scale(np.random.random()+2)\n",
    "    c.faces = c + (2.*np.random.random(3) - 1)\n",
    "    hexes.append(c)"
   ]
  },
  {
   "cell_type": "code",
   "execution_count": 30,
   "metadata": {
    "collapsed": true
   },
   "outputs": [],
   "source": [
    "fig = plt.figure()\n",
    "ax = fig.add_subplot(111, projection='3d')\n",
    "colors = ['r', 'g', 'b']\n",
    "for c in hexes:\n",
    "    color = colors.pop()\n",
    "    polys = c.polycollection(facecolors=color)\n",
    "    ax.add_collection3d(polys)\n",
    "#polys = cubic.polycollection()\n",
    "#ax.scatter(*np.transpose(np.reshape(cubic.faces, (-1, 3))), c='k')\n",
    "#ax.add_collection3d(polys)\n",
    "_ = ax.set_xlim(-2, 2)\n",
    "_ = ax.set_ylim(-2, 2)\n",
    "_ = ax.set_zlim(-2, 2)\n",
    "fig.show()"
   ]
  },
  {
   "cell_type": "markdown",
   "metadata": {},
   "source": [
    "## Impatience..."
   ]
  },
  {
   "cell_type": "code",
   "execution_count": 9,
   "metadata": {
    "collapsed": true
   },
   "outputs": [],
   "source": [
    "grains = np.genfromtxt('/Users/bkappes/Desktop/workdir/Grains.csv',\n",
    "                       skip_header=8, names=True, dtype=None)"
   ]
  },
  {
   "cell_type": "code",
   "execution_count": 10,
   "metadata": {
    "collapsed": false
   },
   "outputs": [
    {
     "name": "stdout",
     "output_type": "stream",
     "text": [
      "GrainID O11 O12 O13 O21 O22 O23 O31 O32 O33 X Y Z a b c alpha beta gamma DiffPos DiffOme DiffAngle GrainRadius Confidence eFab11 eFab12 eFab13 eFab21 eFab22 eFab23 eFab31 eFab32 eFab33 eKen11 eKen12 eKen13 eKen21 eKen22 eKen23 eKen31 eKen32 eKen33 RMSErrorStrain PhaseNr\n",
      "194\n"
     ]
    }
   ],
   "source": [
    "print ' '.join(grains.dtype.names)\n",
    "print len(grains)"
   ]
  },
  {
   "cell_type": "code",
   "execution_count": 31,
   "metadata": {
    "collapsed": true
   },
   "outputs": [],
   "source": [
    "hexes = []\n",
    "xyz = grains[np.array(['X', 'Y', 'Z'])].view(np.float64).reshape((-1, 3))\n",
    "orient = grains[np.array(['O11', 'O12', 'O13', 'O21', 'O22', 'O23', 'O31', 'O32', 'O33'])]\\\n",
    "    .view(np.float64).reshape((-1, 3, 3))\n",
    "size = grains['GrainRadius'].view(np.float64)\n",
    "size = 80*(size - size.min())/(size.max() - size.min()) + 40\n",
    "for i in range(len(grains)):\n",
    "    c = Hexagonal()\n",
    "    c.rotate(orient[i])\n",
    "    c.scale(size[i])\n",
    "    c.faces = c + xyz[i]\n",
    "    hexes.append(c)"
   ]
  },
  {
   "cell_type": "code",
   "execution_count": 43,
   "metadata": {
    "collapsed": false
   },
   "outputs": [],
   "source": [
    "# set scalar value\n",
    "#scalar = grains['Confidence'].view(np.float64)\n",
    "exx, eyy, ezz, gxy, gyz, gzx = \\\n",
    "    grains[np.array(['eFab11', 'eFab22', 'eFab33', 'eFab12', 'eFab23', 'eFab31'])]\\\n",
    "        .view(np.float64).reshape((-1, 6)).T\n",
    "scalar = 2./3.*np.sqrt(3*(exx**2 + eyy**2 + ezz**2)/2. + 3*(gxy**2 + gyz**2 + gzx**2)/4.)\n",
    "# select colormap\n",
    "cmap = cm.get_cmap('Spectral')\n",
    "# create normalizer for colorbar\n",
    "norm = Normalize(vmin=scalar.min(), vmax=scalar.max())\n",
    "# normalize scalar\n",
    "scalar = (scalar - scalar.min())/(scalar.max() - scalar.min())\n",
    "# construct figure\n",
    "fig = plt.figure(figsize=(12, 10))\n",
    "# plot axis\n",
    "ax = fig.add_axes([0.05, 0.05, 0.8, 0.9], projection='3d')\n",
    "# colorbar axis\n",
    "cbax = fig.add_axes([0.85, 0.1, 0.05, 0.8])\n",
    "#ax = fig.add_subplot(111, projection='3d')\n",
    "\n",
    "# # orthogonal projection\n",
    "# # DO NOT USE: While an interesting thought, the Poly3DCollection\n",
    "# # does not render properly.\n",
    "# def orthogonal_proj(zfront, zback):\n",
    "#     a = (zfront+zback)/(zfront-zback)\n",
    "#     b = -2*(zfront*zback)/(zfront-zback)\n",
    "#     return numpy.array([[1,0,0,0],\n",
    "#                         [0,1,0,0],\n",
    "#                         [0,0,a,b],\n",
    "#                         [0,0,0,zback]])\n",
    "# proj3d.persp_transformation = orthogonal_proj\n",
    "\n",
    "for i,c in enumerate(hexes):\n",
    "    polys = c.polycollection(facecolors=(cmap(scalar[i]),))\n",
    "    ax.add_collection3d(polys)\n",
    "\n",
    "ax.set_xlabel('beam direction ($\\mathrm{\\mu m}$)')\n",
    "ax.set_ylabel('inboard-outboard ($\\mathrm{\\mu m}$)')\n",
    "ax.set_zlabel('up ($\\mathrm{\\mu m}$)')\n",
    "\n",
    "cb = ColorbarBase(cbax, cmap=cmap, norm=norm, orientation='vertical')\n",
    "cb.set_label('Equivalent strain')\n",
    "\n",
    "# Create cubic bounding box to simulate equal aspect ratio\n",
    "# from http://stackoverflow.com/questions/13685386/\\\n",
    "#   matplotlib-equal-unit-length-with-equal-aspect-ratio-z-axis-is-not-equal-to\n",
    "X, Y, Z = xyz.T\n",
    "max_range = np.array([X.max()-X.min(), Y.max()-Y.min(), Z.max()-Z.min()]).max()\n",
    "Xb = 0.5*max_range*np.mgrid[-1:2:2,-1:2:2,-1:2:2][0].flatten() + 0.5*(X.max()+X.min())\n",
    "Yb = 0.5*max_range*np.mgrid[-1:2:2,-1:2:2,-1:2:2][1].flatten() + 0.5*(Y.max()+Y.min())\n",
    "Zb = 0.5*max_range*np.mgrid[-1:2:2,-1:2:2,-1:2:2][2].flatten() + 0.5*(Z.max()+Z.min())\n",
    "for xb, yb, zb in zip(Xb, Yb, Zb):\n",
    "    ax.plot([xb], [yb], [zb], 'w')\n",
    "    \n",
    "# # Another option: manually set x,y,z limits\n",
    "# xmid, ymid, zmid = xyz.mean(axis=0)\n",
    "# lower = xyz.min(axis=0)\n",
    "# upper = xyz.max(axis=0)\n",
    "# halfspan = np.max(upper - lower)/2. # largest span\n",
    "# _ = ax.set_xlim(xmid - halfspan, xmid + halfspan)\n",
    "# _ = ax.set_ylim(ymid - halfspan, ymid + halfspan)\n",
    "# _ = ax.set_zlim(zmid - halfspan, zmid + halfspan)\n",
    "fig.show()"
   ]
  },
  {
   "cell_type": "code",
   "execution_count": null,
   "metadata": {
    "collapsed": true
   },
   "outputs": [],
   "source": []
  }
 ],
 "metadata": {
  "kernelspec": {
   "display_name": "Python 2",
   "language": "python",
   "name": "python2"
  },
  "language_info": {
   "codemirror_mode": {
    "name": "ipython",
    "version": 2
   },
   "file_extension": ".py",
   "mimetype": "text/x-python",
   "name": "python",
   "nbconvert_exporter": "python",
   "pygments_lexer": "ipython2",
   "version": "2.7.11"
  }
 },
 "nbformat": 4,
 "nbformat_minor": 0
}
